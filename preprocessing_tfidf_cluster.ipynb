{
 "cells": [
  {
   "cell_type": "code",
   "execution_count": 1,
   "id": "9ebb3366-9a5e-417f-878a-eadda0e9256f",
   "metadata": {},
   "outputs": [],
   "source": [
    "import pandas as pd\n",
    "import numpy as np\n",
    "from collections import Counter\n",
    "import csv\n",
    "import nltk\n",
    "import re\n",
    "from nltk.stem import WordNetLemmatizer\n",
    "import sklearn\n",
    "import codecs\n",
    "import pymorphy2\n",
    "import seaborn as sns\n",
    "sns.set_style(\"darkgrid\")\n",
    "from nltk.stem.snowball import SnowballStemmer\n",
    "from sklearn.feature_extraction.text import TfidfVectorizer\n",
    "from sklearn.cluster import KMeans\n",
    "from sklearn.cluster import AgglomerativeClustering\n",
    "from nltk.corpus import stopwords"
   ]
  },
  {
   "cell_type": "code",
   "execution_count": 2,
   "id": "3470c550-034c-4914-9b5f-d80239f85eff",
   "metadata": {},
   "outputs": [],
   "source": [
    "class website:\n",
    "    def __init__(self, CSV_POS='', CSV_NEG='', text_pos={}, text_neg={},\n",
    "                 tf_idf_matrix_pos='', tf_idf_matrix_neg='', web_name='',\n",
    "                 words_pos=[], words_neg=[]):\n",
    "        self.csv = {\n",
    "            \"pos\": CSV_POS,\n",
    "            \"neg\": CSV_NEG\n",
    "        }\n",
    "        self.text = {\n",
    "            \"pos\": text_pos,\n",
    "            \"neg\": text_neg\n",
    "        }\n",
    "        self.tfidf_matrix = {\n",
    "            \"pos\":  tf_idf_matrix_pos,\n",
    "            \"neg\": tf_idf_matrix_neg\n",
    "        }\n",
    "        self.name = web_name\n",
    "        self.words = {\n",
    "            \"pos\": words_pos,\n",
    "            \"neg\": words_neg\n",
    "        }"
   ]
  },
  {
   "cell_type": "code",
   "execution_count": 3,
   "id": "94f0e22f-757b-4c9b-abce-f9e8c8a57df3",
   "metadata": {},
   "outputs": [],
   "source": [
    "def list_to_str(arr):\n",
    "    s = ''\n",
    "    for rec in arr:\n",
    "        s += rec\n",
    "    return df_preprocess_revs(s)"
   ]
  },
  {
   "cell_type": "code",
   "execution_count": 4,
   "id": "7796b9da-31d6-4f5e-a30c-a9eed8da3a50",
   "metadata": {},
   "outputs": [],
   "source": [
    "def csv_to_list(arr):\n",
    "    arr_list = []\n",
    "    for row in arr:\n",
    "        arr_list.append(list_to_str(row))\n",
    "    return arr_list"
   ]
  },
  {
   "cell_type": "code",
   "execution_count": 5,
   "id": "36385bf8-732d-4457-b5c0-f8b30c346791",
   "metadata": {},
   "outputs": [],
   "source": [
    "def key(x):\n",
    "    try:\n",
    "        return countt[x]\n",
    "    except KeyError:\n",
    "        return 0"
   ]
  },
  {
   "cell_type": "code",
   "execution_count": 6,
   "id": "c70b550d-40b5-43a9-87f8-ec5827d4a302",
   "metadata": {},
   "outputs": [],
   "source": [
    "def clasterization(w, st):\n",
    "    print(f'\\t{st} reviews from {w.name}: clasterization...')\n",
    "    num_clusters = 10\n",
    "    kmeans = KMeans(n_clusters=num_clusters, random_state=0)\n",
    "    kmeans.fit(w.tfidf_matrix[st])\n",
    "    for cluster_id in range(num_clusters):\n",
    "        cluster_indices = np.where(kmeans.labels_ == cluster_id)[0]\n",
    "        print(f'\\nКластер {cluster_id + 1}: (кол-во отзывов: {len(cluster_indices)}) ------------\\n')\n",
    "        ch = 0\n",
    "        for idx in sorted(cluster_indices, key=lambda x: countt[w.words[st][x]], reverse=True):\n",
    "            if ch == 20:\n",
    "                break\n",
    "            if (rev_list[idx] != ''):\n",
    "                print(f\"{rev_list[idx][:-12:]}: {countt[w.words[st][idx]]}\")\n",
    "            ch += 1\n",
    "    print(\"--------\")"
   ]
  },
  {
   "cell_type": "code",
   "execution_count": 7,
   "id": "e0c0e454-00f3-4210-91fc-f546873f68fd",
   "metadata": {},
   "outputs": [],
   "source": [
    "def vectorization(w, st):\n",
    "    print(f'\\t{st} reviews from {w.name}: vectorization...')\n",
    "    vectorizer = TfidfVectorizer()\n",
    "    vectors = vectorizer.fit_transform(w.text[st]['Text'])\n",
    "    count_reviews = vectors.shape[0]\n",
    "    count_tockens = vectors.shape[1]\n",
    "\n",
    "    tf_idf = pd.DataFrame(vectors.todense()).iloc[:count_reviews]\n",
    "    tf_idf.columns = vectorizer.get_feature_names_out()\n",
    "    w.words[st] = tf_idf.columns    # сохранение для кластеризации\n",
    "    tfidf_matrix = tf_idf.T\n",
    "    tfidf_matrix.columns = ['response' + str(i) for i in range(1, count_reviews + 1)]\n",
    "    tfidf_matrix['count'] = tfidf_matrix.sum(axis=1)\n",
    "    for i in range(len(tfidf_matrix['count'])):\n",
    "        countt[w.words[st][i]] = tfidf_matrix['count'][i]\n",
    "\n",
    "    tfidf_matrix = tfidf_matrix.sort_values(by ='count', ascending=False)\n",
    "    print(tfidf_matrix.drop(columns=['count']).head(count_tockens))\n",
    "    return tfidf_matrix.T"
   ]
  },
  {
   "cell_type": "code",
   "execution_count": 8,
   "id": "cccdc939-951a-4d15-8624-8adffa68fcb3",
   "metadata": {},
   "outputs": [],
   "source": [
    "def df_preprocess(text):\n",
    "    reg = re.compile(r'[^а-яА-яa-zA-Z0-9 ]')\n",
    "    text = text.lower().replace(\"ё\", \"е\")\n",
    "    text = text.replace(\"ъ\", \"ь\")\n",
    "    text = text.replace(\"й\", \"и\")\n",
    "    text = re.sub(r'((www\\.[^\\s]+)|(https?://[^\\s]+))', 'сайт', text)\n",
    "    text = re.sub(r'@[^\\s]+', 'пользователь', text)\n",
    "    text = reg.sub(' ', text)\n",
    "    stopWords = set(stopwords.words('russian'))\n",
    "    # Стемминг\n",
    "    stemmer = SnowballStemmer(\"russian\")\n",
    "    text = ' '.join([stemmer.stem(word) for word in text.split() if word not in stopWords])\n",
    "    return text"
   ]
  },
  {
   "cell_type": "code",
   "execution_count": 9,
   "id": "1033c0c8-141c-477a-8c7b-99b74c7fc1ed",
   "metadata": {},
   "outputs": [],
   "source": [
    "def df_preprocess_revs(text):\n",
    "    reg = re.compile(r'[^а-яА-яa-zA-Z0-9 ]')\n",
    "    text = reg.sub(' ', text)\n",
    "    return text"
   ]
  },
  {
   "cell_type": "code",
   "execution_count": 10,
   "id": "50a93445-b6e1-4333-9c6b-4eda0aca6519",
   "metadata": {},
   "outputs": [],
   "source": [
    "statuses = [\"neg\", \"pos\"]"
   ]
  },
  {
   "cell_type": "code",
   "execution_count": 11,
   "id": "c6aa0b0c-1eee-4f1f-b371-8f99bdc71392",
   "metadata": {},
   "outputs": [
    {
     "ename": "FileNotFoundError",
     "evalue": "[Errno 2] No such file or directory: 'result\\\\api\\\\rustore.ru\\\\csv\\\\revData_rustore.ru_neg.csv'",
     "output_type": "error",
     "traceback": [
      "\u001b[1;31m---------------------------------------------------------------------------\u001b[0m",
      "\u001b[1;31mFileNotFoundError\u001b[0m                         Traceback (most recent call last)",
      "Cell \u001b[1;32mIn[11], line 6\u001b[0m\n\u001b[0;32m      4\u001b[0m \u001b[38;5;28;01mfor\u001b[39;00m st \u001b[38;5;129;01min\u001b[39;00m statuses:\n\u001b[0;32m      5\u001b[0m     rustore\u001b[38;5;241m.\u001b[39mcsv[st] \u001b[38;5;241m=\u001b[39m \u001b[38;5;124mfr\u001b[39m\u001b[38;5;124m'\u001b[39m\u001b[38;5;124mresult\u001b[39m\u001b[38;5;124m\\\u001b[39m\u001b[38;5;124mapi\u001b[39m\u001b[38;5;124m\\\u001b[39m\u001b[38;5;124mrustore.ru\u001b[39m\u001b[38;5;124m\\\u001b[39m\u001b[38;5;124mcsv\u001b[39m\u001b[38;5;124m\\\u001b[39m\u001b[38;5;124mrevData_rustore.ru_\u001b[39m\u001b[38;5;132;01m{\u001b[39;00mst\u001b[38;5;132;01m}\u001b[39;00m\u001b[38;5;124m.csv\u001b[39m\u001b[38;5;124m'\u001b[39m\n\u001b[1;32m----> 6\u001b[0m     rustore\u001b[38;5;241m.\u001b[39mtext[st] \u001b[38;5;241m=\u001b[39m \u001b[43mpd\u001b[49m\u001b[38;5;241;43m.\u001b[39;49m\u001b[43mread_csv\u001b[49m\u001b[43m(\u001b[49m\u001b[43mrustore\u001b[49m\u001b[38;5;241;43m.\u001b[39;49m\u001b[43mcsv\u001b[49m\u001b[43m[\u001b[49m\u001b[43mst\u001b[49m\u001b[43m]\u001b[49m\u001b[43m)\u001b[49m\n\u001b[0;32m      7\u001b[0m     rustore\u001b[38;5;241m.\u001b[39mtext[st][\u001b[38;5;124m'\u001b[39m\u001b[38;5;124mText\u001b[39m\u001b[38;5;124m'\u001b[39m] \u001b[38;5;241m=\u001b[39m rustore\u001b[38;5;241m.\u001b[39mtext[st][\u001b[38;5;124m'\u001b[39m\u001b[38;5;124mText\u001b[39m\u001b[38;5;124m'\u001b[39m]\u001b[38;5;241m.\u001b[39mapply(df_preprocess)\n",
      "File \u001b[1;32m~\\AppData\\Local\\Programs\\Python\\Python312\\Lib\\site-packages\\pandas\\io\\parsers\\readers.py:1026\u001b[0m, in \u001b[0;36mread_csv\u001b[1;34m(filepath_or_buffer, sep, delimiter, header, names, index_col, usecols, dtype, engine, converters, true_values, false_values, skipinitialspace, skiprows, skipfooter, nrows, na_values, keep_default_na, na_filter, verbose, skip_blank_lines, parse_dates, infer_datetime_format, keep_date_col, date_parser, date_format, dayfirst, cache_dates, iterator, chunksize, compression, thousands, decimal, lineterminator, quotechar, quoting, doublequote, escapechar, comment, encoding, encoding_errors, dialect, on_bad_lines, delim_whitespace, low_memory, memory_map, float_precision, storage_options, dtype_backend)\u001b[0m\n\u001b[0;32m   1013\u001b[0m kwds_defaults \u001b[38;5;241m=\u001b[39m _refine_defaults_read(\n\u001b[0;32m   1014\u001b[0m     dialect,\n\u001b[0;32m   1015\u001b[0m     delimiter,\n\u001b[1;32m   (...)\u001b[0m\n\u001b[0;32m   1022\u001b[0m     dtype_backend\u001b[38;5;241m=\u001b[39mdtype_backend,\n\u001b[0;32m   1023\u001b[0m )\n\u001b[0;32m   1024\u001b[0m kwds\u001b[38;5;241m.\u001b[39mupdate(kwds_defaults)\n\u001b[1;32m-> 1026\u001b[0m \u001b[38;5;28;01mreturn\u001b[39;00m \u001b[43m_read\u001b[49m\u001b[43m(\u001b[49m\u001b[43mfilepath_or_buffer\u001b[49m\u001b[43m,\u001b[49m\u001b[43m \u001b[49m\u001b[43mkwds\u001b[49m\u001b[43m)\u001b[49m\n",
      "File \u001b[1;32m~\\AppData\\Local\\Programs\\Python\\Python312\\Lib\\site-packages\\pandas\\io\\parsers\\readers.py:620\u001b[0m, in \u001b[0;36m_read\u001b[1;34m(filepath_or_buffer, kwds)\u001b[0m\n\u001b[0;32m    617\u001b[0m _validate_names(kwds\u001b[38;5;241m.\u001b[39mget(\u001b[38;5;124m\"\u001b[39m\u001b[38;5;124mnames\u001b[39m\u001b[38;5;124m\"\u001b[39m, \u001b[38;5;28;01mNone\u001b[39;00m))\n\u001b[0;32m    619\u001b[0m \u001b[38;5;66;03m# Create the parser.\u001b[39;00m\n\u001b[1;32m--> 620\u001b[0m parser \u001b[38;5;241m=\u001b[39m \u001b[43mTextFileReader\u001b[49m\u001b[43m(\u001b[49m\u001b[43mfilepath_or_buffer\u001b[49m\u001b[43m,\u001b[49m\u001b[43m \u001b[49m\u001b[38;5;241;43m*\u001b[39;49m\u001b[38;5;241;43m*\u001b[39;49m\u001b[43mkwds\u001b[49m\u001b[43m)\u001b[49m\n\u001b[0;32m    622\u001b[0m \u001b[38;5;28;01mif\u001b[39;00m chunksize \u001b[38;5;129;01mor\u001b[39;00m iterator:\n\u001b[0;32m    623\u001b[0m     \u001b[38;5;28;01mreturn\u001b[39;00m parser\n",
      "File \u001b[1;32m~\\AppData\\Local\\Programs\\Python\\Python312\\Lib\\site-packages\\pandas\\io\\parsers\\readers.py:1620\u001b[0m, in \u001b[0;36mTextFileReader.__init__\u001b[1;34m(self, f, engine, **kwds)\u001b[0m\n\u001b[0;32m   1617\u001b[0m     \u001b[38;5;28mself\u001b[39m\u001b[38;5;241m.\u001b[39moptions[\u001b[38;5;124m\"\u001b[39m\u001b[38;5;124mhas_index_names\u001b[39m\u001b[38;5;124m\"\u001b[39m] \u001b[38;5;241m=\u001b[39m kwds[\u001b[38;5;124m\"\u001b[39m\u001b[38;5;124mhas_index_names\u001b[39m\u001b[38;5;124m\"\u001b[39m]\n\u001b[0;32m   1619\u001b[0m \u001b[38;5;28mself\u001b[39m\u001b[38;5;241m.\u001b[39mhandles: IOHandles \u001b[38;5;241m|\u001b[39m \u001b[38;5;28;01mNone\u001b[39;00m \u001b[38;5;241m=\u001b[39m \u001b[38;5;28;01mNone\u001b[39;00m\n\u001b[1;32m-> 1620\u001b[0m \u001b[38;5;28mself\u001b[39m\u001b[38;5;241m.\u001b[39m_engine \u001b[38;5;241m=\u001b[39m \u001b[38;5;28;43mself\u001b[39;49m\u001b[38;5;241;43m.\u001b[39;49m\u001b[43m_make_engine\u001b[49m\u001b[43m(\u001b[49m\u001b[43mf\u001b[49m\u001b[43m,\u001b[49m\u001b[43m \u001b[49m\u001b[38;5;28;43mself\u001b[39;49m\u001b[38;5;241;43m.\u001b[39;49m\u001b[43mengine\u001b[49m\u001b[43m)\u001b[49m\n",
      "File \u001b[1;32m~\\AppData\\Local\\Programs\\Python\\Python312\\Lib\\site-packages\\pandas\\io\\parsers\\readers.py:1880\u001b[0m, in \u001b[0;36mTextFileReader._make_engine\u001b[1;34m(self, f, engine)\u001b[0m\n\u001b[0;32m   1878\u001b[0m     \u001b[38;5;28;01mif\u001b[39;00m \u001b[38;5;124m\"\u001b[39m\u001b[38;5;124mb\u001b[39m\u001b[38;5;124m\"\u001b[39m \u001b[38;5;129;01mnot\u001b[39;00m \u001b[38;5;129;01min\u001b[39;00m mode:\n\u001b[0;32m   1879\u001b[0m         mode \u001b[38;5;241m+\u001b[39m\u001b[38;5;241m=\u001b[39m \u001b[38;5;124m\"\u001b[39m\u001b[38;5;124mb\u001b[39m\u001b[38;5;124m\"\u001b[39m\n\u001b[1;32m-> 1880\u001b[0m \u001b[38;5;28mself\u001b[39m\u001b[38;5;241m.\u001b[39mhandles \u001b[38;5;241m=\u001b[39m \u001b[43mget_handle\u001b[49m\u001b[43m(\u001b[49m\n\u001b[0;32m   1881\u001b[0m \u001b[43m    \u001b[49m\u001b[43mf\u001b[49m\u001b[43m,\u001b[49m\n\u001b[0;32m   1882\u001b[0m \u001b[43m    \u001b[49m\u001b[43mmode\u001b[49m\u001b[43m,\u001b[49m\n\u001b[0;32m   1883\u001b[0m \u001b[43m    \u001b[49m\u001b[43mencoding\u001b[49m\u001b[38;5;241;43m=\u001b[39;49m\u001b[38;5;28;43mself\u001b[39;49m\u001b[38;5;241;43m.\u001b[39;49m\u001b[43moptions\u001b[49m\u001b[38;5;241;43m.\u001b[39;49m\u001b[43mget\u001b[49m\u001b[43m(\u001b[49m\u001b[38;5;124;43m\"\u001b[39;49m\u001b[38;5;124;43mencoding\u001b[39;49m\u001b[38;5;124;43m\"\u001b[39;49m\u001b[43m,\u001b[49m\u001b[43m \u001b[49m\u001b[38;5;28;43;01mNone\u001b[39;49;00m\u001b[43m)\u001b[49m\u001b[43m,\u001b[49m\n\u001b[0;32m   1884\u001b[0m \u001b[43m    \u001b[49m\u001b[43mcompression\u001b[49m\u001b[38;5;241;43m=\u001b[39;49m\u001b[38;5;28;43mself\u001b[39;49m\u001b[38;5;241;43m.\u001b[39;49m\u001b[43moptions\u001b[49m\u001b[38;5;241;43m.\u001b[39;49m\u001b[43mget\u001b[49m\u001b[43m(\u001b[49m\u001b[38;5;124;43m\"\u001b[39;49m\u001b[38;5;124;43mcompression\u001b[39;49m\u001b[38;5;124;43m\"\u001b[39;49m\u001b[43m,\u001b[49m\u001b[43m \u001b[49m\u001b[38;5;28;43;01mNone\u001b[39;49;00m\u001b[43m)\u001b[49m\u001b[43m,\u001b[49m\n\u001b[0;32m   1885\u001b[0m \u001b[43m    \u001b[49m\u001b[43mmemory_map\u001b[49m\u001b[38;5;241;43m=\u001b[39;49m\u001b[38;5;28;43mself\u001b[39;49m\u001b[38;5;241;43m.\u001b[39;49m\u001b[43moptions\u001b[49m\u001b[38;5;241;43m.\u001b[39;49m\u001b[43mget\u001b[49m\u001b[43m(\u001b[49m\u001b[38;5;124;43m\"\u001b[39;49m\u001b[38;5;124;43mmemory_map\u001b[39;49m\u001b[38;5;124;43m\"\u001b[39;49m\u001b[43m,\u001b[49m\u001b[43m \u001b[49m\u001b[38;5;28;43;01mFalse\u001b[39;49;00m\u001b[43m)\u001b[49m\u001b[43m,\u001b[49m\n\u001b[0;32m   1886\u001b[0m \u001b[43m    \u001b[49m\u001b[43mis_text\u001b[49m\u001b[38;5;241;43m=\u001b[39;49m\u001b[43mis_text\u001b[49m\u001b[43m,\u001b[49m\n\u001b[0;32m   1887\u001b[0m \u001b[43m    \u001b[49m\u001b[43merrors\u001b[49m\u001b[38;5;241;43m=\u001b[39;49m\u001b[38;5;28;43mself\u001b[39;49m\u001b[38;5;241;43m.\u001b[39;49m\u001b[43moptions\u001b[49m\u001b[38;5;241;43m.\u001b[39;49m\u001b[43mget\u001b[49m\u001b[43m(\u001b[49m\u001b[38;5;124;43m\"\u001b[39;49m\u001b[38;5;124;43mencoding_errors\u001b[39;49m\u001b[38;5;124;43m\"\u001b[39;49m\u001b[43m,\u001b[49m\u001b[43m \u001b[49m\u001b[38;5;124;43m\"\u001b[39;49m\u001b[38;5;124;43mstrict\u001b[39;49m\u001b[38;5;124;43m\"\u001b[39;49m\u001b[43m)\u001b[49m\u001b[43m,\u001b[49m\n\u001b[0;32m   1888\u001b[0m \u001b[43m    \u001b[49m\u001b[43mstorage_options\u001b[49m\u001b[38;5;241;43m=\u001b[39;49m\u001b[38;5;28;43mself\u001b[39;49m\u001b[38;5;241;43m.\u001b[39;49m\u001b[43moptions\u001b[49m\u001b[38;5;241;43m.\u001b[39;49m\u001b[43mget\u001b[49m\u001b[43m(\u001b[49m\u001b[38;5;124;43m\"\u001b[39;49m\u001b[38;5;124;43mstorage_options\u001b[39;49m\u001b[38;5;124;43m\"\u001b[39;49m\u001b[43m,\u001b[49m\u001b[43m \u001b[49m\u001b[38;5;28;43;01mNone\u001b[39;49;00m\u001b[43m)\u001b[49m\u001b[43m,\u001b[49m\n\u001b[0;32m   1889\u001b[0m \u001b[43m\u001b[49m\u001b[43m)\u001b[49m\n\u001b[0;32m   1890\u001b[0m \u001b[38;5;28;01massert\u001b[39;00m \u001b[38;5;28mself\u001b[39m\u001b[38;5;241m.\u001b[39mhandles \u001b[38;5;129;01mis\u001b[39;00m \u001b[38;5;129;01mnot\u001b[39;00m \u001b[38;5;28;01mNone\u001b[39;00m\n\u001b[0;32m   1891\u001b[0m f \u001b[38;5;241m=\u001b[39m \u001b[38;5;28mself\u001b[39m\u001b[38;5;241m.\u001b[39mhandles\u001b[38;5;241m.\u001b[39mhandle\n",
      "File \u001b[1;32m~\\AppData\\Local\\Programs\\Python\\Python312\\Lib\\site-packages\\pandas\\io\\common.py:873\u001b[0m, in \u001b[0;36mget_handle\u001b[1;34m(path_or_buf, mode, encoding, compression, memory_map, is_text, errors, storage_options)\u001b[0m\n\u001b[0;32m    868\u001b[0m \u001b[38;5;28;01melif\u001b[39;00m \u001b[38;5;28misinstance\u001b[39m(handle, \u001b[38;5;28mstr\u001b[39m):\n\u001b[0;32m    869\u001b[0m     \u001b[38;5;66;03m# Check whether the filename is to be opened in binary mode.\u001b[39;00m\n\u001b[0;32m    870\u001b[0m     \u001b[38;5;66;03m# Binary mode does not support 'encoding' and 'newline'.\u001b[39;00m\n\u001b[0;32m    871\u001b[0m     \u001b[38;5;28;01mif\u001b[39;00m ioargs\u001b[38;5;241m.\u001b[39mencoding \u001b[38;5;129;01mand\u001b[39;00m \u001b[38;5;124m\"\u001b[39m\u001b[38;5;124mb\u001b[39m\u001b[38;5;124m\"\u001b[39m \u001b[38;5;129;01mnot\u001b[39;00m \u001b[38;5;129;01min\u001b[39;00m ioargs\u001b[38;5;241m.\u001b[39mmode:\n\u001b[0;32m    872\u001b[0m         \u001b[38;5;66;03m# Encoding\u001b[39;00m\n\u001b[1;32m--> 873\u001b[0m         handle \u001b[38;5;241m=\u001b[39m \u001b[38;5;28;43mopen\u001b[39;49m\u001b[43m(\u001b[49m\n\u001b[0;32m    874\u001b[0m \u001b[43m            \u001b[49m\u001b[43mhandle\u001b[49m\u001b[43m,\u001b[49m\n\u001b[0;32m    875\u001b[0m \u001b[43m            \u001b[49m\u001b[43mioargs\u001b[49m\u001b[38;5;241;43m.\u001b[39;49m\u001b[43mmode\u001b[49m\u001b[43m,\u001b[49m\n\u001b[0;32m    876\u001b[0m \u001b[43m            \u001b[49m\u001b[43mencoding\u001b[49m\u001b[38;5;241;43m=\u001b[39;49m\u001b[43mioargs\u001b[49m\u001b[38;5;241;43m.\u001b[39;49m\u001b[43mencoding\u001b[49m\u001b[43m,\u001b[49m\n\u001b[0;32m    877\u001b[0m \u001b[43m            \u001b[49m\u001b[43merrors\u001b[49m\u001b[38;5;241;43m=\u001b[39;49m\u001b[43merrors\u001b[49m\u001b[43m,\u001b[49m\n\u001b[0;32m    878\u001b[0m \u001b[43m            \u001b[49m\u001b[43mnewline\u001b[49m\u001b[38;5;241;43m=\u001b[39;49m\u001b[38;5;124;43m\"\u001b[39;49m\u001b[38;5;124;43m\"\u001b[39;49m\u001b[43m,\u001b[49m\n\u001b[0;32m    879\u001b[0m \u001b[43m        \u001b[49m\u001b[43m)\u001b[49m\n\u001b[0;32m    880\u001b[0m     \u001b[38;5;28;01melse\u001b[39;00m:\n\u001b[0;32m    881\u001b[0m         \u001b[38;5;66;03m# Binary mode\u001b[39;00m\n\u001b[0;32m    882\u001b[0m         handle \u001b[38;5;241m=\u001b[39m \u001b[38;5;28mopen\u001b[39m(handle, ioargs\u001b[38;5;241m.\u001b[39mmode)\n",
      "\u001b[1;31mFileNotFoundError\u001b[0m: [Errno 2] No such file or directory: 'result\\\\api\\\\rustore.ru\\\\csv\\\\revData_rustore.ru_neg.csv'"
     ]
    }
   ],
   "source": [
    "# websites init\n",
    "rustore = website()\n",
    "rustore.name = 'rustore.ru'\n",
    "for st in statuses:\n",
    "    rustore.csv[st] = fr'result\\api\\rustore.ru\\csv\\revData_rustore.ru_{st}.csv'\n",
    "    rustore.text[st] = pd.read_csv(rustore.csv[st])\n",
    "    rustore.text[st]['Text'] = rustore.text[st]['Text'].apply(df_preprocess)"
   ]
  },
  {
   "cell_type": "code",
   "execution_count": null,
   "id": "583d218b-ef78-4d25-87f3-27958261fb58",
   "metadata": {},
   "outputs": [],
   "source": [
    "sravni = website()\n",
    "sravni.name = 'sravni.ru'\n",
    "for st in statuses:\n",
    "    sravni.csv[st] = fr'result\\api\\sravni.ru\\csv\\revData_sravni.ru_{st}.csv'\n",
    "    sravni.text[st] = pd.read_csv(sravni.csv[st])\n",
    "    sravni.text[st]['Text'] = sravni.text[st]['Text'].apply(df_preprocess)"
   ]
  },
  {
   "cell_type": "code",
   "execution_count": null,
   "id": "6d3b0113-1367-4cb0-a123-c8e8aaa282a3",
   "metadata": {},
   "outputs": [],
   "source": [
    "for st in statuses:\n",
    "    countt = {}\n",
    "    rustore.tfidf_matrix[st] = vectorization(rustore, st)\n",
    "    with open(rustore.csv[st], 'r', encoding='utf-8') as file:\n",
    "        q = csv.reader(file)\n",
    "        rev_list = csv_to_list(q)\n",
    "    clasterization(rustore, st)\n",
    "    sravni.tfidf_matrix[st] = vectorization(sravni, st)\n",
    "    with open(sravni.csv[st], 'r', encoding='utf-8') as file:\n",
    "        q = csv.reader(file)\n",
    "        rev_list = csv_to_list(q)\n",
    "    clasterization(sravni, st)"
   ]
  },
  {
   "cell_type": "code",
   "execution_count": null,
   "id": "c43bfac1-d923-440c-b4bb-5f4b988f89d8",
   "metadata": {},
   "outputs": [],
   "source": []
  }
 ],
 "metadata": {
  "kernelspec": {
   "display_name": "Python 3 (ipykernel)",
   "language": "python",
   "name": "python3"
  },
  "language_info": {
   "codemirror_mode": {
    "name": "ipython",
    "version": 3
   },
   "file_extension": ".py",
   "mimetype": "text/x-python",
   "name": "python",
   "nbconvert_exporter": "python",
   "pygments_lexer": "ipython3",
   "version": "3.12.2"
  }
 },
 "nbformat": 4,
 "nbformat_minor": 5
}
